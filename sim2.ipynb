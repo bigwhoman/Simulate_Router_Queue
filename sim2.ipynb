{
 "cells": [
  {
   "cell_type": "code",
   "execution_count": 1,
   "metadata": {},
   "outputs": [],
   "source": [
    "import random\n",
    "import time\n",
    "from concurrent.futures import ThreadPoolExecutor\n",
    "from queue import PriorityQueue\n",
    "import matplotlib.pyplot as plt\n",
    "import numpy as np\n"
   ]
  },
  {
   "cell_type": "code",
   "execution_count": 2,
   "metadata": {},
   "outputs": [],
   "source": [
    "class Task:\n",
    "    def __init__(self, name, service_time, arrival_time):\n",
    "        self.name = name\n",
    "        self.service_time = random.expovariate(1 / service_time)\n",
    "        self.priority = self.generate_priority()\n",
    "        self.arrival_time = time.time()\n",
    "        self.finish_time = time.time()\n",
    "        \n",
    "    def generate_priority(self):\n",
    "        r = random.random()\n",
    "        if r <= 0.2:\n",
    "            return 'high'\n",
    "        elif r <= 0.5:\n",
    "            return 'medium'\n",
    "        else:\n",
    "            return 'low'\n",
    "\n",
    "    def __lt__(self, other):\n",
    "        return self.service_time < other.service_time\n"
   ]
  },
  {
   "cell_type": "code",
   "execution_count": 3,
   "metadata": {},
   "outputs": [],
   "source": [
    "T = 30  # 10 seconds of simulation time\n",
    "k = 3  # 3 servers\n",
    "lambda_param = 5  # Poisson distribution parameter\n",
    "max_queue_size = 10  # Maximum queue size for each server\n",
    "policy = 'weighted_round_robin'  # Choose from 'fifo', 'weighted_round_robin', or 'non_preemptive_priority'"
   ]
  },
  {
   "cell_type": "code",
   "execution_count": 4,
   "metadata": {},
   "outputs": [],
   "source": [
    "def task_generator(T, lambda_param, start_time):\n",
    "    current_time = start_time\n",
    "    task_count = 0\n",
    "    while current_time < T + start_time:\n",
    "        task_count += 1\n",
    "        inter_arrival_time = random.expovariate(lambda_param)\n",
    "        time.sleep(inter_arrival_time)\n",
    "        current_time += inter_arrival_time\n",
    "        yield Task(f\"Task {task_count}\", inter_arrival_time, time.time())\n"
   ]
  },
  {
   "cell_type": "code",
   "execution_count": 5,
   "metadata": {},
   "outputs": [],
   "source": [
    "def process_task(queue, policy):\n",
    "    if policy == 'fifo':\n",
    "        task = fifo_policy(queue)\n",
    "    elif policy == 'weighted_round_robin':\n",
    "        task = weighted_round_robin_policy(queue)\n",
    "    elif policy == 'non_preemptive_priority':\n",
    "        task = non_preemptive_priority_policy(queue)\n",
    "    else:\n",
    "        raise ValueError(f\"Unknown policy: {policy}\")\n",
    "\n",
    "    if task:\n",
    "        time_in_queue = time.time() - task.arrival_time\n",
    "        time.sleep(task.service_time)\n",
    "        task.finish_time = time.time()\n",
    "        # print(f\"{task.name} with priority {task.priority} is processed\")\n"
   ]
  },
  {
   "cell_type": "code",
   "execution_count": 6,
   "metadata": {},
   "outputs": [],
   "source": [
    "def fifo_policy(queue):\n",
    "    return queue.get()\n",
    "\n",
    "def weighted_round_robin_policy(queue):\n",
    "    high_priority = [task for task in queue.queue if task.priority == 'high']\n",
    "    medium_priority = [task for task in queue.queue if task.priority == 'medium']\n",
    "    low_priority = [task for task in queue.queue if task.priority == 'low']\n",
    "    if high_priority:\n",
    "        return high_priority.pop(0)\n",
    "    elif medium_priority:\n",
    "        return medium_priority.pop(0)\n",
    "    elif low_priority:\n",
    "        return low_priority.pop(0)\n",
    "    else:\n",
    "        return None\n",
    "\n",
    "def non_preemptive_priority_policy(queue):\n",
    "    sorted_tasks = sorted(queue.queue, key=lambda task: task.priority)\n",
    "    task = sorted_tasks.pop(0)\n",
    "    queue.queue.remove(task)\n",
    "    return task\n"
   ]
  },
  {
   "cell_type": "code",
   "execution_count": 7,
   "metadata": {},
   "outputs": [],
   "source": [
    "def run_simulation(T, k, lambda_param, max_queue_size, policy):\n",
    "    if policy == 'weighted_round_robin':\n",
    "        task_queues = [{'high': PriorityQueue(maxsize=max_queue_size), \n",
    "                        'medium': PriorityQueue(maxsize=max_queue_size), \n",
    "                        'low': PriorityQueue(maxsize=max_queue_size)} for _ in range(k)]\n",
    "    else:\n",
    "        task_queues = [PriorityQueue(maxsize=max_queue_size) for _ in range(k)]\n",
    "    dropped_tasks = 0\n",
    "    total_tasks = 0\n",
    "    total_queue_sizes = [0] * k\n",
    "    total_task_times = [0] * k\n",
    "    server_busy_times = [0] * k\n",
    "    task_arrival_times = []\n",
    "\n",
    "    start_time = time.time()\n",
    "    active_tasks = []\n",
    "    with ThreadPoolExecutor(max_workers=k) as executor:\n",
    "        for task in task_generator(T, lambda_param,start_time):\n",
    "            total_tasks += 1\n",
    "            task_arrival_times.append((total_tasks, time.time() - start_time))\n",
    "            if policy == 'weighted_round_robin':\n",
    "                min_queue = min(task_queues, key=lambda q: q[task.priority].qsize())\n",
    "                if min_queue[task.priority].full():\n",
    "                    dropped_tasks += 1\n",
    "                else:\n",
    "                    active_tasks.append(task)\n",
    "                    min_queue_idx = task_queues.index(min_queue)\n",
    "                    total_queue_sizes[min_queue_idx] += 1\n",
    "                    total_task_times[min_queue_idx] += task.service_time\n",
    "                    server_busy_times[min_queue_idx] += task.service_time\n",
    "                    min_queue[task.priority].put(task)\n",
    "                    executor.submit(process_task, min_queue[task.priority], policy)\n",
    "            else:\n",
    "                min_queue = min(task_queues, key=lambda q: q.qsize())\n",
    "                if min_queue.full():\n",
    "                    dropped_tasks += 1\n",
    "                else:\n",
    "                    active_tasks.append(task)\n",
    "                    min_queue_idx = task_queues.index(min_queue)\n",
    "                    total_queue_sizes[min_queue_idx] += 1\n",
    "                    total_task_times[min_queue_idx] += task.service_time\n",
    "                    server_busy_times[min_queue_idx] += task.service_time\n",
    "                    min_queue.put(task)\n",
    "                    executor.submit(process_task, min_queue, policy)\n",
    "    cook = []\n",
    "    for task in active_tasks :\n",
    "        if task.priority == 'high' :\n",
    "            running_time = (task.finish_time - task.arrival_time)*1000\n",
    "            if running_time != 0:\n",
    "                cook.append(running_time)\n",
    "    avg_queue_sizes = [size / total_tasks for size in total_queue_sizes]\n",
    "    avg_time_spent_queues = [task_time / total_tasks for task_time in total_task_times]\n",
    "    avg_server_utilization = [busy_time / T for busy_time in server_busy_times]\n",
    "\n",
    "    return dropped_tasks, total_tasks, avg_queue_sizes, avg_time_spent_queues, avg_server_utilization, cook\n"
   ]
  },
  {
   "cell_type": "code",
   "execution_count": 8,
   "metadata": {},
   "outputs": [
    {
     "name": "stdout",
     "output_type": "stream",
     "text": [
      "Total tasks generated: 164\n",
      "Dropped tasks: 74\n",
      "Average queue sizes: [0.18292682926829268, 0.18292682926829268, 0.18292682926829268]\n",
      "Average time spent in all queues: 0.03268756197625237\n",
      "Average time spent in each queue: [0.037499244465858415, 0.025232426598107042, 0.03533101486479164]\n",
      "Average server utilization: [0.20499586974669268, 0.13793726540298518, 0.193142881260861]\n"
     ]
    }
   ],
   "source": [
    "dropped_tasks, total_tasks, avg_queue_sizes, avg_time_spent_queues, avg_server_utilization,high_priority_times = run_simulation(T, k, lambda_param, max_queue_size, policy)\n",
    "print(f\"Total tasks generated: {total_tasks}\")\n",
    "print(f\"Dropped tasks: {dropped_tasks}\")\n",
    "print(f\"Average queue sizes: {avg_queue_sizes}\")\n",
    "print(f\"Average time spent in all queues: {sum(avg_time_spent_queues) / len(avg_time_spent_queues)}\")\n",
    "print(f\"Average time spent in each queue: {avg_time_spent_queues}\")\n",
    "print(f\"Average server utilization: {avg_server_utilization}\")\n"
   ]
  },
  {
   "cell_type": "code",
   "execution_count": 9,
   "metadata": {},
   "outputs": [
    {
     "name": "stdout",
     "output_type": "stream",
     "text": [
      "[277.7750492095947, 13.086318969726562, 468.0194854736328, 663.7494564056396, 1486.4161014556885, 501.60837173461914, 46.40054702758789, 211.5023136138916, 17.716169357299805, 38.01083564758301, 67.05927848815918, 30.766963958740234, 11.25192642211914, 53.77840995788574, 4.664182662963867, 40.094614028930664, 50.24099349975586, 13.036489486694336, 123.33011627197266, 92.90266036987305, 157.4420928955078, 160.7379913330078, 187.77942657470703, 4.999637603759766, 557.4698448181152, 32.75179862976074, 120.53918838500977, 520.2615261077881, 31.3265323638916]\n",
      "[24865.998029708862, 32.62829780578613, 3107.7334880828857, 7.719755172729492, 3.9811134338378906, 103.97887229919434, 17531.631469726562, 2923.971176147461, 11161.75889968872]\n",
      "[58.33077430725098, 90.74783325195312, 20.9963321685791, 383.9290142059326, 51.027536392211914, 714.7417068481445, 1682.7971935272217, 2064.469814300537, 6.989002227783203, 147.99928665161133, 4.000186920166016, 15.990018844604492, 178.98941040039062, 161.0264778137207, 196.75874710083008, 167.61088371276855, 18.999338150024414, 74.00274276733398, 91.88985824584961, 112.66136169433594, 28.14936637878418, 42.815446853637695, 34.46388244628906, 16.288042068481445, 99.98488426208496, 83.72974395751953, 29.234647750854492, 1476.5915870666504, 65.56320190429688, 891.7608261108398, 25.64263343811035, 588.5586738586426, 99.47586059570312, 241.9722080230713, 27.521848678588867, 692.1827793121338, 17.770051956176758, 26.03626251220703, 79.88500595092773]\n"
     ]
    }
   ],
   "source": [
    "scheduling_policies = ['fifo', 'weighted_round_robin', 'non_preemptive_priority']\n",
    "high_priority_times_by_policy = {}\n",
    "for policy in scheduling_policies:\n",
    "    np.random.seed(None)\n",
    "    dropped_tasks, total_tasks, avg_queue_sizes, avg_time_spent_queues, avg_server_utilization,high_priority_times = run_simulation(T, k, lambda_param, max_queue_size, policy)\n",
    "    print(high_priority_times)\n",
    "    high_priority_times_by_policy[policy] = high_priority_times"
   ]
  },
  {
   "cell_type": "code",
   "execution_count": 10,
   "metadata": {},
   "outputs": [
    {
     "data": {
      "image/png": "[encoded data removed]",
      "text/plain": [
       "<Figure size 640x480 with 1 Axes>"
      ]
     },
     "metadata": {},
     "output_type": "display_data"
    }
   ],
   "source": [
    "for policy, high_priority_times in high_priority_times_by_policy.items():\n",
    "    sorted_times = np.sort(high_priority_times)\n",
    "    yvals = np.arange(1, len(sorted_times) + 1) / len(sorted_times)\n",
    "    plt.plot(sorted_times, yvals, label=policy)\n",
    "\n",
    "plt.xlabel('Time spent in queues')\n",
    "plt.ylabel('CDF')\n",
    "plt.legend(loc='upper left')\n",
    "plt.title('CDF of time spent in queues for high-priority tasks - * 10^-3')\n",
    "plt.show()"
   ]
  },
  {
   "cell_type": "markdown",
   "metadata": {},
   "source": [
    "# Improving utlization\n",
    "The most basic thing we can do, is to reduce the queue size, however this results in packets being more dropped.\n",
    "\n",
    "# Queue policy comparison\n",
    "Based on the CDF plot, round robin scheduling makes packets spend a lot of time in the queue, thus it's not a good choise. FIFO and Non-Preemptive priority work almost the same, but non preemptive is a little bit better.\n"
   ]
  }
 ],
 "metadata": {
  "kernelspec": {
   "display_name": "Python 3 (ipykernel)",
   "language": "python",
   "name": "python3"
  },
  "language_info": {
   "codemirror_mode": {
    "name": "ipython",
    "version": 3
   },
   "file_extension": ".py",
   "mimetype": "text/x-python",
   "name": "python",
   "nbconvert_exporter": "python",
   "pygments_lexer": "ipython3",
   "version": "3.11.2"
  }
 },
 "nbformat": 4,
 "nbformat_minor": 2
}
