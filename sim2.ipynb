{
 "cells": [
  {
   "cell_type": "code",
   "execution_count": 153,
   "metadata": {},
   "outputs": [],
   "source": [
    "import random\n",
    "import time\n",
    "from concurrent.futures import ThreadPoolExecutor\n",
    "from queue import PriorityQueue\n",
    "import matplotlib.pyplot as plt\n",
    "import numpy as np\n"
   ]
  },
  {
   "cell_type": "code",
   "execution_count": 154,
   "metadata": {},
   "outputs": [],
   "source": [
    "class Task:\n",
    "    def __init__(self, name, service_time, arrival_time):\n",
    "        self.name = name\n",
    "        self.service_time = random.expovariate(1 / service_time)\n",
    "        self.priority = self.generate_priority()\n",
    "        self.arrival_time = time.time()\n",
    "        self.finish_time = time.time()\n",
    "        \n",
    "    def generate_priority(self):\n",
    "        r = random.random()\n",
    "        if r <= 0.2:\n",
    "            return 'high'\n",
    "        elif r <= 0.5:\n",
    "            return 'medium'\n",
    "        else:\n",
    "            return 'low'\n",
    "\n",
    "    def __lt__(self, other):\n",
    "        return self.service_time < other.service_time\n"
   ]
  },
  {
   "cell_type": "code",
   "execution_count": 155,
   "metadata": {},
   "outputs": [],
   "source": [
    "T = 30  # 10 seconds of simulation time\n",
    "k = 3  # 3 servers\n",
    "lambda_param = 5  # Poisson distribution parameter\n",
    "max_queue_size = 10  # Maximum queue size for each server\n",
    "policy = 'weighted_round_robin'  # Choose from 'fifo', 'weighted_round_robin', or 'non_preemptive_priority'"
   ]
  },
  {
   "cell_type": "code",
   "execution_count": 156,
   "metadata": {},
   "outputs": [],
   "source": [
    "def task_generator(T, lambda_param, start_time):\n",
    "    current_time = start_time\n",
    "    task_count = 0\n",
    "    while current_time < T + start_time:\n",
    "        task_count += 1\n",
    "        inter_arrival_time = random.expovariate(lambda_param)\n",
    "        current_time += inter_arrival_time\n",
    "        yield Task(f\"Task {task_count}\", inter_arrival_time, time.time())\n"
   ]
  },
  {
   "cell_type": "code",
   "execution_count": 157,
   "metadata": {},
   "outputs": [],
   "source": [
    "def process_task(queue, policy):\n",
    "    if policy == 'fifo':\n",
    "        task = fifo_policy(queue)\n",
    "    elif policy == 'weighted_round_robin':\n",
    "        task = weighted_round_robin_policy(queue)\n",
    "    elif policy == 'non_preemptive_priority':\n",
    "        task = non_preemptive_priority_policy(queue)\n",
    "    else:\n",
    "        raise ValueError(f\"Unknown policy: {policy}\")\n",
    "\n",
    "    if task:\n",
    "        time_in_queue = time.time() - task.arrival_time\n",
    "        task.finish_time = time.time()\n",
    "        time.sleep(task.service_time)\n",
    "        # print(f\"{task.name} with priority {task.priority} is processed\")\n",
    "        if task.priority == 'high':\n",
    "            return time_in_queue\n",
    "        else:\n",
    "            return None\n"
   ]
  },
  {
   "cell_type": "code",
   "execution_count": 158,
   "metadata": {},
   "outputs": [],
   "source": [
    "def fifo_policy(queue):\n",
    "    return queue.get()\n",
    "\n",
    "def weighted_round_robin_policy(queue):\n",
    "    high_priority = [task for task in queue.queue if task.priority == 'high']\n",
    "    medium_priority = [task for task in queue.queue if task.priority == 'medium']\n",
    "    low_priority = [task for task in queue.queue if task.priority == 'low']\n",
    "    if high_priority:\n",
    "        return high_priority.pop(0)\n",
    "    elif medium_priority:\n",
    "        return medium_priority.pop(0)\n",
    "    elif low_priority:\n",
    "        return low_priority.pop(0)\n",
    "    else:\n",
    "        return None\n",
    "\n",
    "def non_preemptive_priority_policy(queue):\n",
    "    sorted_tasks = sorted(queue.queue, key=lambda task: task.priority)\n",
    "    task = sorted_tasks.pop(0)\n",
    "    queue.queue.remove(task)\n",
    "    return task\n"
   ]
  },
  {
   "cell_type": "code",
   "execution_count": 159,
   "metadata": {},
   "outputs": [],
   "source": [
    "def run_simulation(T, k, lambda_param, max_queue_size, policy):\n",
    "    if policy == 'weighted_round_robin':\n",
    "        task_queues = [{'high': PriorityQueue(maxsize=max_queue_size), \n",
    "                        'medium': PriorityQueue(maxsize=max_queue_size), \n",
    "                        'low': PriorityQueue(maxsize=max_queue_size)} for _ in range(k)]\n",
    "    else:\n",
    "        task_queues = [PriorityQueue(maxsize=max_queue_size) for _ in range(k)]\n",
    "    dropped_tasks = 0\n",
    "    total_tasks = 0\n",
    "    total_queue_sizes = [0] * k\n",
    "    total_task_times = [0] * k\n",
    "    server_busy_times = [0] * k\n",
    "    task_arrival_times = []\n",
    "\n",
    "    start_time = time.time()\n",
    "    active_tasks = []\n",
    "    with ThreadPoolExecutor(max_workers=k) as executor:\n",
    "        for task in task_generator(T, lambda_param,start_time):\n",
    "            total_tasks += 1\n",
    "            task_arrival_times.append((total_tasks, time.time() - start_time))\n",
    "            if policy == 'weighted_round_robin':\n",
    "                min_queue = min(task_queues, key=lambda q: q[task.priority].qsize())\n",
    "                if min_queue[task.priority].full():\n",
    "                    dropped_tasks += 1\n",
    "                else:\n",
    "                    active_tasks.append(task)\n",
    "                    min_queue_idx = task_queues.index(min_queue)\n",
    "                    total_queue_sizes[min_queue_idx] += 1\n",
    "                    total_task_times[min_queue_idx] += task.service_time\n",
    "                    server_busy_times[min_queue_idx] += task.service_time\n",
    "                    min_queue[task.priority].put(task)\n",
    "                    time_in_queue = executor.submit(process_task, min_queue[task.priority], policy).result()\n",
    "            else:\n",
    "                min_queue = min(task_queues, key=lambda q: q.qsize())\n",
    "                if min_queue.full():\n",
    "                    dropped_tasks += 1\n",
    "                else:\n",
    "                    active_tasks.append(task)\n",
    "                    min_queue_idx = task_queues.index(min_queue)\n",
    "                    total_queue_sizes[min_queue_idx] += 1\n",
    "                    total_task_times[min_queue_idx] += task.service_time\n",
    "                    server_busy_times[min_queue_idx] += task.service_time\n",
    "                    min_queue.put(task)\n",
    "                    time_in_queue = executor.submit(process_task, min_queue, policy).result()\n",
    "                    if task.priority == 'high':\n",
    "                        high_priority_times.append(task.finish_time - task.arrival_time)\n",
    "    cook = []\n",
    "    for task in active_tasks :\n",
    "        if task.priority == 'high' :\n",
    "            # print(task.finish_time - task.arrival_time) \n",
    "            cook.append((task.finish_time - task.arrival_time)*1000)\n",
    "    avg_queue_sizes = [size / total_tasks for size in total_queue_sizes]\n",
    "    avg_time_spent_queues = [task_time / total_tasks for task_time in total_task_times]\n",
    "    avg_server_utilization = [busy_time / T for busy_time in server_busy_times]\n",
    "\n",
    "    return dropped_tasks, total_tasks, avg_queue_sizes, avg_time_spent_queues, avg_server_utilization, cook\n"
   ]
  },
  {
   "cell_type": "code",
   "execution_count": 160,
   "metadata": {},
   "outputs": [
    {
     "name": "stdout",
     "output_type": "stream",
     "text": [
      "Total tasks generated: 174\n",
      "Dropped tasks: 84\n",
      "Average queue sizes: [0.1724137931034483, 0.1724137931034483, 0.1724137931034483]\n",
      "Average time spent in all queues: 0.03307248406181081\n",
      "Average time spent in each queue: [0.025094659375237697, 0.030089233045296915, 0.04403355976489783]\n",
      "Average server utilization: [0.14554902437637865, 0.1745175516627221, 0.25539464663640743]\n"
     ]
    }
   ],
   "source": [
    "dropped_tasks, total_tasks, avg_queue_sizes, avg_time_spent_queues, avg_server_utilization,high_priority_times = run_simulation(T, k, lambda_param, max_queue_size, policy)\n",
    "print(f\"Total tasks generated: {total_tasks}\")\n",
    "print(f\"Dropped tasks: {dropped_tasks}\")\n",
    "print(f\"Average queue sizes: {avg_queue_sizes}\")\n",
    "print(f\"Average time spent in all queues: {sum(avg_time_spent_queues) / len(avg_time_spent_queues)}\")\n",
    "print(f\"Average time spent in each queue: {avg_time_spent_queues}\")\n",
    "print(f\"Average server utilization: {avg_server_utilization}\")\n"
   ]
  },
  {
   "cell_type": "code",
   "execution_count": 161,
   "metadata": {},
   "outputs": [
    {
     "name": "stdout",
     "output_type": "stream",
     "text": [
      "[0.5364418029785156, 0.2162456512451172, 0.21648406982421875, 0.23746490478515625, 0.2269744873046875, 0.23102760314941406, 0.19931793212890625, 0.21076202392578125, 0.2281665802001953, 0.19979476928710938, 0.1957416534423828, 0.23365020751953125, 0.22268295288085938, 0.24199485778808594, 0.23412704467773438, 0.23412704467773438, 0.25963783264160156, 0.2319812774658203, 0.2315044403076172, 0.2617835998535156, 0.2028942108154297, 0.2200603485107422, 0.217437744140625, 0.23555755615234375, 0.27489662170410156, 0.2238750457763672, 0.0858306884765625, 0.2300739288330078, 0.23436546325683594, 0.2307891845703125, 0.232696533203125]\n",
      "[0.29659271240234375, 0.22912025451660156, 847.6850986480713, 728.3883094787598, 252.62808799743652, 0.0007152557373046875, 0.000476837158203125, 0.0007152557373046875, 274.003267288208, 0.0007152557373046875, 0.000476837158203125, 0.0007152557373046875, 0.0011920928955078125, 0.25582313537597656, 0.0007152557373046875, 72.86286354064941, 76.72858238220215, 76.86233520507812, 0.0007152557373046875, 0.000476837158203125, 0.000476837158203125, 0.0007152557373046875, 0.000476837158203125, 0.000476837158203125, 0.000476837158203125, 0.000476837158203125, 0.000476837158203125, 0.000476837158203125, 0.000476837158203125, 0.000476837158203125]\n",
      "[1.0509490966796875, 0.2269744873046875, 0.10275840759277344, 0.2334117889404297, 0.22864341735839844, 0.21719932556152344, 0.2238750457763672, 0.26154518127441406, 0.22339820861816406, 0.2193450927734375, 0.2186298370361328, 0.2319812774658203, 0.22864341735839844, 0.22935867309570312, 0.209808349609375, 0.22673606872558594, 0.1728534698486328, 0.08511543273925781, 0.22339820861816406, 0.1811981201171875, 0.19741058349609375, 0.1964569091796875, 0.19502639770507812, 0.22077560424804688, 0.22602081298828125, 0.22077560424804688, 0.2167224884033203, 0.24271011352539062]\n"
     ]
    }
   ],
   "source": [
    "scheduling_policies = ['fifo', 'weighted_round_robin', 'non_preemptive_priority']\n",
    "high_priority_times_by_policy = {}\n",
    "for policy in scheduling_policies:\n",
    "    np.random.seed(None)  # Add this line\n",
    "    dropped_tasks, total_tasks, avg_queue_sizes, avg_time_spent_queues, avg_server_utilization,high_priority_times = run_simulation(T, k, lambda_param, max_queue_size, policy)\n",
    "    print(high_priority_times)\n",
    "    high_priority_times_by_policy[policy] = high_priority_times"
   ]
  },
  {
   "cell_type": "code",
   "execution_count": 162,
   "metadata": {},
   "outputs": [
    {
     "data": {
      "image/png": "[encoded data removed]",
      "text/plain": [
       "<Figure size 640x480 with 1 Axes>"
      ]
     },
     "metadata": {},
     "output_type": "display_data"
    }
   ],
   "source": [
    "for policy, high_priority_times in high_priority_times_by_policy.items():\n",
    "    sorted_times = np.sort(high_priority_times)\n",
    "    yvals = np.arange(1, len(sorted_times) + 1) / len(sorted_times)\n",
    "    plt.plot(sorted_times, yvals, label=policy)\n",
    "\n",
    "plt.xlabel('Time spent in queues')\n",
    "plt.ylabel('CDF')\n",
    "plt.legend(loc='upper left')\n",
    "plt.title('CDF of time spent in queues for high-priority tasks - * 10^-3')\n",
    "plt.show()"
   ]
  }
 ],
 "metadata": {
  "kernelspec": {
   "display_name": "Python 3 (ipykernel)",
   "language": "python",
   "name": "python3"
  },
  "language_info": {
   "codemirror_mode": {
    "name": "ipython",
    "version": 3
   },
   "file_extension": ".py",
   "mimetype": "text/x-python",
   "name": "python",
   "nbconvert_exporter": "python",
   "pygments_lexer": "ipython3",
   "version": "3.10.6"
  },
  "orig_nbformat": 4
 },
 "nbformat": 4,
 "nbformat_minor": 2
}
