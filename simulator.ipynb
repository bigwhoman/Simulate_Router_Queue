{
 "cells": [
  {
   "attachments": {},
   "cell_type": "markdown",
   "metadata": {},
   "source": [
    "# Router Queue Simulator"
   ]
  },
  {
   "attachments": {},
   "cell_type": "markdown",
   "metadata": {},
   "source": [
    "## Parameters"
   ]
  },
  {
   "cell_type": "code",
   "execution_count": 1,
   "metadata": {},
   "outputs": [],
   "source": [
    "import numpy as np"
   ]
  },
  {
   "cell_type": "code",
   "execution_count": 3,
   "metadata": {},
   "outputs": [],
   "source": [
    "# X = pass\n",
    "# Y = pass\n",
    "# T = pass\n",
    "\n",
    "# PROSSSOR_NUM = pass\n",
    "\n",
    "SERVICE_POLICY = {'FIFO','WRR','NPPS'}\n",
    "PRIORITIES = [2,1,0]\n",
    "PROBABILITIES = [0.2,0.3,0.5]\n",
    "\n",
    "all_tasks = []\n",
    "Router_List = []\n",
    "\n",
    "class Task : \n",
    "    def __init__(self,id,priority,working_time,arival_time) :\n",
    "        self.id = id\n",
    "        self.priority = priority\n",
    "        self.working_time = working_time\n",
    "        self.arival_time = arival_time\n",
    "        self.status = \"\"\n",
    "        self.router = \"\"\n",
    "        all_tasks.append(self)\n",
    "\n",
    "class Router : \n",
    "    def __init__(self,id,policy,service_time,max_queue) :\n",
    "        self.id = id \n",
    "        self.policy = policy\n",
    "        self.service_time = service_time\n",
    "        self.task_queue = []\n",
    "        self.max_queue = max_queue"
   ]
  },
  {
   "cell_type": "code",
   "execution_count": null,
   "metadata": {},
   "outputs": [],
   "source": [
    "def Generate_Tasks(Time,arrival_rate,working_rate): \n",
    "    interarrival_times = []\n",
    "    arrival_times = []\n",
    "    overal_time = 0\n",
    "    while(overal_time <= Time) : \n",
    "        interarrival_time = np.random.poisson(arrival_rate)\n",
    "        interarrival_times.append(interarrival_time)\n",
    "        arrival_times.append(overal_time)\n",
    "        overal_time += interarrival_time\n",
    "    for indx,time in enumerate(arrival_times) : \n",
    "        priority = np.random.choice(PRIORITIES, p=PROBABILITIES)\n",
    "        working_time = np.random.exponential(working_rate)\n",
    "        all_tasks.append(Task(id=indx,priority=priority\n",
    "        ,working_time=working_time,arrival_time=time))\n",
    "\n",
    "\n",
    "\n",
    "def distribute_Task(task) :\n",
    "    for router in Router_List : \n",
    "        if len(router.task_queue) < router.max_queue :\n",
    "            task.status = \"ongoing\"\n",
    "            task.router = router\n",
    "            router.task_queue.append(task)\n",
    "            return\n",
    "    task.status = \"dropped\"\n"
   ]
  },
  {
   "cell_type": "code",
   "execution_count": 50,
   "metadata": {},
   "outputs": [
    {
     "name": "stdout",
     "output_type": "stream",
     "text": [
      "4\n"
     ]
    }
   ],
   "source": [
    "print(np.random.poisson(2))"
   ]
  }
 ],
 "metadata": {
  "kernelspec": {
   "display_name": "Python 3 (ipykernel)",
   "language": "python",
   "name": "python3"
  },
  "orig_nbformat": 4
 },
 "nbformat": 4,
 "nbformat_minor": 2
}
